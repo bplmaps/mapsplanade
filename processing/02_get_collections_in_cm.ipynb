{
 "cells": [
  {
   "cell_type": "code",
   "execution_count": 3,
   "id": "2bd755ee",
   "metadata": {},
   "outputs": [],
   "source": [
    "import pandas as pd\n",
    "import re"
   ]
  },
  {
   "cell_type": "code",
   "execution_count": null,
   "id": "883374dd",
   "metadata": {},
   "outputs": [
    {
     "name": "stdout",
     "output_type": "stream",
     "text": [
      "                                                extent   cmx   cmy\n",
      "0                                  1 map ; 41 x 59 cm.  41.0  59.0\n",
      "1                                         1 photograph   NaN   NaN\n",
      "2     1 map : col., mounted on foamboard ; 78 x 62 cm.  78.0  62.0\n",
      "3                           1 map : col. ; 40 x 56 cm.  40.0  56.0\n",
      "4                           1 map : col. ; 51 x 68 cm.  51.0  68.0\n",
      "...                                                ...   ...   ...\n",
      "9640                                1 map ; 50 x 41 cm  50.0  41.0\n",
      "9641   1 map : color ; 86 x 92 cm on sheet 92 x 127 cm  86.0  92.0\n",
      "9642                        1 map : color ; 56 x 57 cm  56.0  57.0\n",
      "9643                        1 map : color ; 73 x 50 cm  73.0  50.0\n",
      "9644                        1 map : col. ; 14 x 25 cm.  14.0  25.0\n",
      "\n",
      "[9645 rows x 3 columns]\n"
     ]
    }
   ],
   "source": [
    "\n",
    "df = pd.read_csv('collections.csv')\n",
    "\n",
    "# regex pattern to find the first width x height cm match\n",
    "pattern = r'(\\d+)\\s*x\\s*(\\d+)\\s*cm'\n",
    "\n",
    "df[['cmx', 'cmy']] = df['extent'].str.extract(pattern).astype(float)\n",
    "print(df[['extent', 'cmx', 'cmy']])\n",
    "\n",
    "df.to_csv(\"output_with_cmx_cmy.csv\", index=False)\n"
   ]
  },
  {
   "cell_type": "code",
   "execution_count": null,
   "id": "11d62d71",
   "metadata": {},
   "outputs": [],
   "source": []
  }
 ],
 "metadata": {
  "kernelspec": {
   "display_name": "atlas",
   "language": "python",
   "name": "python3"
  },
  "language_info": {
   "codemirror_mode": {
    "name": "ipython",
    "version": 3
   },
   "file_extension": ".py",
   "mimetype": "text/x-python",
   "name": "python",
   "nbconvert_exporter": "python",
   "pygments_lexer": "ipython3",
   "version": "3.11.9"
  }
 },
 "nbformat": 4,
 "nbformat_minor": 5
}
