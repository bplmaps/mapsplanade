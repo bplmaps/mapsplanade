{
 "cells": [
  {
   "cell_type": "code",
   "execution_count": null,
   "id": "675eeb63",
   "metadata": {},
   "outputs": [],
   "source": [
    "import geopandas as gpd\n",
    "import pandas as pd\n",
    "import numpy as np\n",
    "from shapely import LineString, Point\n",
    "from shapely.geometry import box"
   ]
  },
  {
   "cell_type": "code",
   "execution_count": null,
   "id": "b58c6191",
   "metadata": {},
   "outputs": [],
   "source": [
    "\n",
    "gdf = gpd.read_file(\"boylston.geojson\")\n",
    "if gdf.crs.is_geographic:\n",
    "    gdf = gdf.to_crs(epsg=3857)\n",
    "\n",
    "line = gdf.geometry.iloc[0]\n",
    "total_length = line.length\n",
    "\n",
    "cmx_df = pd.read_csv(\"cm_final.csv\")\n",
    "\n",
    "step_lengths = cmx_df[\"cmx\"].values / 100.0\n",
    "cmy = cmx_df[\"cmy\"]\n",
    "id = cmx_df[\"id\"]\n",
    "\n",
    "cmx_with_start = np.insert(step_lengths * 100, 0, 0)\n",
    "\n",
    "cumulative_dists = np.insert(np.cumsum(step_lengths), 0, 0.0)\n",
    "\n",
    "points = [line.interpolate(dist) for dist in cumulative_dists]\n",
    "print(points)\n",
    "\n",
    "points_gdf = gpd.GeoDataFrame(geometry=points, crs=gdf.crs)\n",
    "print(points_gdf)\n",
    "points_gdf[\"cmx\"] = cmx_with_start\n",
    "points_gdf[\"cmy\"] = cmy\n",
    "points_gdf[\"id\"] = id\n",
    "\n",
    "points_gdf.to_file(\"points-spaced-by-cmx.geojson\", driver=\"GeoJSON\")\n"
   ]
  },
  {
   "cell_type": "code",
   "execution_count": null,
   "id": "83e2cc40",
   "metadata": {},
   "outputs": [],
   "source": [
    "step_lengths_y = cmx_df[\"cmy\"].values / 100.0\n",
    "\n",
    "combined = np.column_stack((step_lengths, step_lengths_y))\n",
    "\n",
    "bbox_geoms = []\n",
    "\n",
    "for point, (dx, dy) in zip(points_gdf.geometry, combined):\n",
    "    minx = point.x - dx / 2\n",
    "    maxx = point.x + dx / 2\n",
    "    miny = point.y - dy / 2\n",
    "    maxy = point.y + dy / 2\n",
    "    bbox = box(minx, miny, maxx, maxy)\n",
    "    bbox_geoms.append(bbox)\n",
    "\n",
    "bbox_gdf = gpd.GeoDataFrame(geometry=bbox_geoms, crs=gdf.crs)\n",
    "\n",
    "bbox_gdf['id'] = id\n",
    "print(bbox_gdf)\n",
    "bbox_gdf.to_file(\"bboxes_NEW.geojson\", driver=\"GeoJSON\")\n",
    "bbox_gdf.plot()"
   ]
  },
  {
   "cell_type": "code",
   "execution_count": null,
   "id": "5b0e5359",
   "metadata": {},
   "outputs": [],
   "source": []
  }
 ],
 "metadata": {
  "kernelspec": {
   "display_name": "atlas",
   "language": "python",
   "name": "python3"
  },
  "language_info": {
   "codemirror_mode": {
    "name": "ipython",
    "version": 3
   },
   "file_extension": ".py",
   "mimetype": "text/x-python",
   "name": "python",
   "nbconvert_exporter": "python",
   "pygments_lexer": "ipython3",
   "version": "3.11.9"
  }
 },
 "nbformat": 4,
 "nbformat_minor": 5
}
